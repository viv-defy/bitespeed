{
  "nbformat": 4,
  "nbformat_minor": 0,
  "metadata": {
    "colab": {
      "provenance": [],
      "authorship_tag": "ABX9TyOMSAO9xdEXqpf5bbc6rvSO",
      "include_colab_link": true
    },
    "kernelspec": {
      "name": "python3",
      "display_name": "Python 3"
    },
    "language_info": {
      "name": "python"
    }
  },
  "cells": [
    {
      "cell_type": "markdown",
      "metadata": {
        "id": "view-in-github",
        "colab_type": "text"
      },
      "source": [
        "<a href=\"https://colab.research.google.com/github/viv-defy/bitespeed/blob/main/Netflix_Data_Analysis.ipynb\" target=\"_parent\"><img src=\"https://colab.research.google.com/assets/colab-badge.svg\" alt=\"Open In Colab\"/></a>"
      ]
    },
    {
      "cell_type": "markdown",
      "source": [
        "#An Exploratory analysis of Netflix dataset"
      ],
      "metadata": {
        "id": "QHysF-NM1EOX"
      }
    },
    {
      "cell_type": "code",
      "execution_count": 87,
      "metadata": {
        "colab": {
          "base_uri": "https://localhost:8080/",
          "height": 362
        },
        "id": "49FGSrMD03u3",
        "outputId": "93c5ac27-baa5-4681-f3ac-090fce11760a"
      },
      "outputs": [
        {
          "output_type": "execute_result",
          "data": {
            "text/plain": [
              "  show_id     type                  title         director  \\\n",
              "0      s1    Movie   Dick Johnson Is Dead  Kirsten Johnson   \n",
              "1      s2  TV Show          Blood & Water              NaN   \n",
              "2      s3  TV Show              Ganglands  Julien Leclercq   \n",
              "3      s4  TV Show  Jailbirds New Orleans              NaN   \n",
              "4      s5  TV Show           Kota Factory              NaN   \n",
              "\n",
              "                                                cast        country  \\\n",
              "0                                                NaN  United States   \n",
              "1  Ama Qamata, Khosi Ngema, Gail Mabalane, Thaban...   South Africa   \n",
              "2  Sami Bouajila, Tracy Gotoas, Samuel Jouy, Nabi...            NaN   \n",
              "3                                                NaN            NaN   \n",
              "4  Mayur More, Jitendra Kumar, Ranjan Raj, Alam K...          India   \n",
              "\n",
              "           date_added  release_year rating   duration  \\\n",
              "0  September 25, 2021          2020  PG-13     90 min   \n",
              "1  September 24, 2021          2021  TV-MA  2 Seasons   \n",
              "2  September 24, 2021          2021  TV-MA   1 Season   \n",
              "3  September 24, 2021          2021  TV-MA   1 Season   \n",
              "4  September 24, 2021          2021  TV-MA  2 Seasons   \n",
              "\n",
              "                                           listed_in  \\\n",
              "0                                      Documentaries   \n",
              "1    International TV Shows, TV Dramas, TV Mysteries   \n",
              "2  Crime TV Shows, International TV Shows, TV Act...   \n",
              "3                             Docuseries, Reality TV   \n",
              "4  International TV Shows, Romantic TV Shows, TV ...   \n",
              "\n",
              "                                         description  \n",
              "0  As her father nears the end of his life, filmm...  \n",
              "1  After crossing paths at a party, a Cape Town t...  \n",
              "2  To protect his family from a powerful drug lor...  \n",
              "3  Feuds, flirtations and toilet talk go down amo...  \n",
              "4  In a city of coaching centers known to train I...  "
            ],
            "text/html": [
              "\n",
              "  <div id=\"df-bf2dcbb5-ccac-4185-8cf7-47808ad5d46b\" class=\"colab-df-container\">\n",
              "    <div>\n",
              "<style scoped>\n",
              "    .dataframe tbody tr th:only-of-type {\n",
              "        vertical-align: middle;\n",
              "    }\n",
              "\n",
              "    .dataframe tbody tr th {\n",
              "        vertical-align: top;\n",
              "    }\n",
              "\n",
              "    .dataframe thead th {\n",
              "        text-align: right;\n",
              "    }\n",
              "</style>\n",
              "<table border=\"1\" class=\"dataframe\">\n",
              "  <thead>\n",
              "    <tr style=\"text-align: right;\">\n",
              "      <th></th>\n",
              "      <th>show_id</th>\n",
              "      <th>type</th>\n",
              "      <th>title</th>\n",
              "      <th>director</th>\n",
              "      <th>cast</th>\n",
              "      <th>country</th>\n",
              "      <th>date_added</th>\n",
              "      <th>release_year</th>\n",
              "      <th>rating</th>\n",
              "      <th>duration</th>\n",
              "      <th>listed_in</th>\n",
              "      <th>description</th>\n",
              "    </tr>\n",
              "  </thead>\n",
              "  <tbody>\n",
              "    <tr>\n",
              "      <th>0</th>\n",
              "      <td>s1</td>\n",
              "      <td>Movie</td>\n",
              "      <td>Dick Johnson Is Dead</td>\n",
              "      <td>Kirsten Johnson</td>\n",
              "      <td>NaN</td>\n",
              "      <td>United States</td>\n",
              "      <td>September 25, 2021</td>\n",
              "      <td>2020</td>\n",
              "      <td>PG-13</td>\n",
              "      <td>90 min</td>\n",
              "      <td>Documentaries</td>\n",
              "      <td>As her father nears the end of his life, filmm...</td>\n",
              "    </tr>\n",
              "    <tr>\n",
              "      <th>1</th>\n",
              "      <td>s2</td>\n",
              "      <td>TV Show</td>\n",
              "      <td>Blood &amp; Water</td>\n",
              "      <td>NaN</td>\n",
              "      <td>Ama Qamata, Khosi Ngema, Gail Mabalane, Thaban...</td>\n",
              "      <td>South Africa</td>\n",
              "      <td>September 24, 2021</td>\n",
              "      <td>2021</td>\n",
              "      <td>TV-MA</td>\n",
              "      <td>2 Seasons</td>\n",
              "      <td>International TV Shows, TV Dramas, TV Mysteries</td>\n",
              "      <td>After crossing paths at a party, a Cape Town t...</td>\n",
              "    </tr>\n",
              "    <tr>\n",
              "      <th>2</th>\n",
              "      <td>s3</td>\n",
              "      <td>TV Show</td>\n",
              "      <td>Ganglands</td>\n",
              "      <td>Julien Leclercq</td>\n",
              "      <td>Sami Bouajila, Tracy Gotoas, Samuel Jouy, Nabi...</td>\n",
              "      <td>NaN</td>\n",
              "      <td>September 24, 2021</td>\n",
              "      <td>2021</td>\n",
              "      <td>TV-MA</td>\n",
              "      <td>1 Season</td>\n",
              "      <td>Crime TV Shows, International TV Shows, TV Act...</td>\n",
              "      <td>To protect his family from a powerful drug lor...</td>\n",
              "    </tr>\n",
              "    <tr>\n",
              "      <th>3</th>\n",
              "      <td>s4</td>\n",
              "      <td>TV Show</td>\n",
              "      <td>Jailbirds New Orleans</td>\n",
              "      <td>NaN</td>\n",
              "      <td>NaN</td>\n",
              "      <td>NaN</td>\n",
              "      <td>September 24, 2021</td>\n",
              "      <td>2021</td>\n",
              "      <td>TV-MA</td>\n",
              "      <td>1 Season</td>\n",
              "      <td>Docuseries, Reality TV</td>\n",
              "      <td>Feuds, flirtations and toilet talk go down amo...</td>\n",
              "    </tr>\n",
              "    <tr>\n",
              "      <th>4</th>\n",
              "      <td>s5</td>\n",
              "      <td>TV Show</td>\n",
              "      <td>Kota Factory</td>\n",
              "      <td>NaN</td>\n",
              "      <td>Mayur More, Jitendra Kumar, Ranjan Raj, Alam K...</td>\n",
              "      <td>India</td>\n",
              "      <td>September 24, 2021</td>\n",
              "      <td>2021</td>\n",
              "      <td>TV-MA</td>\n",
              "      <td>2 Seasons</td>\n",
              "      <td>International TV Shows, Romantic TV Shows, TV ...</td>\n",
              "      <td>In a city of coaching centers known to train I...</td>\n",
              "    </tr>\n",
              "  </tbody>\n",
              "</table>\n",
              "</div>\n",
              "    <div class=\"colab-df-buttons\">\n",
              "\n",
              "  <div class=\"colab-df-container\">\n",
              "    <button class=\"colab-df-convert\" onclick=\"convertToInteractive('df-bf2dcbb5-ccac-4185-8cf7-47808ad5d46b')\"\n",
              "            title=\"Convert this dataframe to an interactive table.\"\n",
              "            style=\"display:none;\">\n",
              "\n",
              "  <svg xmlns=\"http://www.w3.org/2000/svg\" height=\"24px\" viewBox=\"0 -960 960 960\">\n",
              "    <path d=\"M120-120v-720h720v720H120Zm60-500h600v-160H180v160Zm220 220h160v-160H400v160Zm0 220h160v-160H400v160ZM180-400h160v-160H180v160Zm440 0h160v-160H620v160ZM180-180h160v-160H180v160Zm440 0h160v-160H620v160Z\"/>\n",
              "  </svg>\n",
              "    </button>\n",
              "\n",
              "  <style>\n",
              "    .colab-df-container {\n",
              "      display:flex;\n",
              "      gap: 12px;\n",
              "    }\n",
              "\n",
              "    .colab-df-convert {\n",
              "      background-color: #E8F0FE;\n",
              "      border: none;\n",
              "      border-radius: 50%;\n",
              "      cursor: pointer;\n",
              "      display: none;\n",
              "      fill: #1967D2;\n",
              "      height: 32px;\n",
              "      padding: 0 0 0 0;\n",
              "      width: 32px;\n",
              "    }\n",
              "\n",
              "    .colab-df-convert:hover {\n",
              "      background-color: #E2EBFA;\n",
              "      box-shadow: 0px 1px 2px rgba(60, 64, 67, 0.3), 0px 1px 3px 1px rgba(60, 64, 67, 0.15);\n",
              "      fill: #174EA6;\n",
              "    }\n",
              "\n",
              "    .colab-df-buttons div {\n",
              "      margin-bottom: 4px;\n",
              "    }\n",
              "\n",
              "    [theme=dark] .colab-df-convert {\n",
              "      background-color: #3B4455;\n",
              "      fill: #D2E3FC;\n",
              "    }\n",
              "\n",
              "    [theme=dark] .colab-df-convert:hover {\n",
              "      background-color: #434B5C;\n",
              "      box-shadow: 0px 1px 3px 1px rgba(0, 0, 0, 0.15);\n",
              "      filter: drop-shadow(0px 1px 2px rgba(0, 0, 0, 0.3));\n",
              "      fill: #FFFFFF;\n",
              "    }\n",
              "  </style>\n",
              "\n",
              "    <script>\n",
              "      const buttonEl =\n",
              "        document.querySelector('#df-bf2dcbb5-ccac-4185-8cf7-47808ad5d46b button.colab-df-convert');\n",
              "      buttonEl.style.display =\n",
              "        google.colab.kernel.accessAllowed ? 'block' : 'none';\n",
              "\n",
              "      async function convertToInteractive(key) {\n",
              "        const element = document.querySelector('#df-bf2dcbb5-ccac-4185-8cf7-47808ad5d46b');\n",
              "        const dataTable =\n",
              "          await google.colab.kernel.invokeFunction('convertToInteractive',\n",
              "                                                    [key], {});\n",
              "        if (!dataTable) return;\n",
              "\n",
              "        const docLinkHtml = 'Like what you see? Visit the ' +\n",
              "          '<a target=\"_blank\" href=https://colab.research.google.com/notebooks/data_table.ipynb>data table notebook</a>'\n",
              "          + ' to learn more about interactive tables.';\n",
              "        element.innerHTML = '';\n",
              "        dataTable['output_type'] = 'display_data';\n",
              "        await google.colab.output.renderOutput(dataTable, element);\n",
              "        const docLink = document.createElement('div');\n",
              "        docLink.innerHTML = docLinkHtml;\n",
              "        element.appendChild(docLink);\n",
              "      }\n",
              "    </script>\n",
              "  </div>\n",
              "\n",
              "\n",
              "<div id=\"df-fdf98ebc-3eb2-4b4f-bec0-adc74bb2610e\">\n",
              "  <button class=\"colab-df-quickchart\" onclick=\"quickchart('df-fdf98ebc-3eb2-4b4f-bec0-adc74bb2610e')\"\n",
              "            title=\"Suggest charts\"\n",
              "            style=\"display:none;\">\n",
              "\n",
              "<svg xmlns=\"http://www.w3.org/2000/svg\" height=\"24px\"viewBox=\"0 0 24 24\"\n",
              "     width=\"24px\">\n",
              "    <g>\n",
              "        <path d=\"M19 3H5c-1.1 0-2 .9-2 2v14c0 1.1.9 2 2 2h14c1.1 0 2-.9 2-2V5c0-1.1-.9-2-2-2zM9 17H7v-7h2v7zm4 0h-2V7h2v10zm4 0h-2v-4h2v4z\"/>\n",
              "    </g>\n",
              "</svg>\n",
              "  </button>\n",
              "\n",
              "<style>\n",
              "  .colab-df-quickchart {\n",
              "      --bg-color: #E8F0FE;\n",
              "      --fill-color: #1967D2;\n",
              "      --hover-bg-color: #E2EBFA;\n",
              "      --hover-fill-color: #174EA6;\n",
              "      --disabled-fill-color: #AAA;\n",
              "      --disabled-bg-color: #DDD;\n",
              "  }\n",
              "\n",
              "  [theme=dark] .colab-df-quickchart {\n",
              "      --bg-color: #3B4455;\n",
              "      --fill-color: #D2E3FC;\n",
              "      --hover-bg-color: #434B5C;\n",
              "      --hover-fill-color: #FFFFFF;\n",
              "      --disabled-bg-color: #3B4455;\n",
              "      --disabled-fill-color: #666;\n",
              "  }\n",
              "\n",
              "  .colab-df-quickchart {\n",
              "    background-color: var(--bg-color);\n",
              "    border: none;\n",
              "    border-radius: 50%;\n",
              "    cursor: pointer;\n",
              "    display: none;\n",
              "    fill: var(--fill-color);\n",
              "    height: 32px;\n",
              "    padding: 0;\n",
              "    width: 32px;\n",
              "  }\n",
              "\n",
              "  .colab-df-quickchart:hover {\n",
              "    background-color: var(--hover-bg-color);\n",
              "    box-shadow: 0 1px 2px rgba(60, 64, 67, 0.3), 0 1px 3px 1px rgba(60, 64, 67, 0.15);\n",
              "    fill: var(--button-hover-fill-color);\n",
              "  }\n",
              "\n",
              "  .colab-df-quickchart-complete:disabled,\n",
              "  .colab-df-quickchart-complete:disabled:hover {\n",
              "    background-color: var(--disabled-bg-color);\n",
              "    fill: var(--disabled-fill-color);\n",
              "    box-shadow: none;\n",
              "  }\n",
              "\n",
              "  .colab-df-spinner {\n",
              "    border: 2px solid var(--fill-color);\n",
              "    border-color: transparent;\n",
              "    border-bottom-color: var(--fill-color);\n",
              "    animation:\n",
              "      spin 1s steps(1) infinite;\n",
              "  }\n",
              "\n",
              "  @keyframes spin {\n",
              "    0% {\n",
              "      border-color: transparent;\n",
              "      border-bottom-color: var(--fill-color);\n",
              "      border-left-color: var(--fill-color);\n",
              "    }\n",
              "    20% {\n",
              "      border-color: transparent;\n",
              "      border-left-color: var(--fill-color);\n",
              "      border-top-color: var(--fill-color);\n",
              "    }\n",
              "    30% {\n",
              "      border-color: transparent;\n",
              "      border-left-color: var(--fill-color);\n",
              "      border-top-color: var(--fill-color);\n",
              "      border-right-color: var(--fill-color);\n",
              "    }\n",
              "    40% {\n",
              "      border-color: transparent;\n",
              "      border-right-color: var(--fill-color);\n",
              "      border-top-color: var(--fill-color);\n",
              "    }\n",
              "    60% {\n",
              "      border-color: transparent;\n",
              "      border-right-color: var(--fill-color);\n",
              "    }\n",
              "    80% {\n",
              "      border-color: transparent;\n",
              "      border-right-color: var(--fill-color);\n",
              "      border-bottom-color: var(--fill-color);\n",
              "    }\n",
              "    90% {\n",
              "      border-color: transparent;\n",
              "      border-bottom-color: var(--fill-color);\n",
              "    }\n",
              "  }\n",
              "</style>\n",
              "\n",
              "  <script>\n",
              "    async function quickchart(key) {\n",
              "      const quickchartButtonEl =\n",
              "        document.querySelector('#' + key + ' button');\n",
              "      quickchartButtonEl.disabled = true;  // To prevent multiple clicks.\n",
              "      quickchartButtonEl.classList.add('colab-df-spinner');\n",
              "      try {\n",
              "        const charts = await google.colab.kernel.invokeFunction(\n",
              "            'suggestCharts', [key], {});\n",
              "      } catch (error) {\n",
              "        console.error('Error during call to suggestCharts:', error);\n",
              "      }\n",
              "      quickchartButtonEl.classList.remove('colab-df-spinner');\n",
              "      quickchartButtonEl.classList.add('colab-df-quickchart-complete');\n",
              "    }\n",
              "    (() => {\n",
              "      let quickchartButtonEl =\n",
              "        document.querySelector('#df-fdf98ebc-3eb2-4b4f-bec0-adc74bb2610e button');\n",
              "      quickchartButtonEl.style.display =\n",
              "        google.colab.kernel.accessAllowed ? 'block' : 'none';\n",
              "    })();\n",
              "  </script>\n",
              "</div>\n",
              "\n",
              "    </div>\n",
              "  </div>\n"
            ],
            "application/vnd.google.colaboratory.intrinsic+json": {
              "type": "dataframe",
              "variable_name": "df",
              "summary": "{\n  \"name\": \"df\",\n  \"rows\": 8807,\n  \"fields\": [\n    {\n      \"column\": \"show_id\",\n      \"properties\": {\n        \"dtype\": \"string\",\n        \"num_unique_values\": 8807,\n        \"samples\": [\n          \"s4971\",\n          \"s3363\",\n          \"s5495\"\n        ],\n        \"semantic_type\": \"\",\n        \"description\": \"\"\n      }\n    },\n    {\n      \"column\": \"type\",\n      \"properties\": {\n        \"dtype\": \"category\",\n        \"num_unique_values\": 2,\n        \"samples\": [\n          \"TV Show\",\n          \"Movie\"\n        ],\n        \"semantic_type\": \"\",\n        \"description\": \"\"\n      }\n    },\n    {\n      \"column\": \"title\",\n      \"properties\": {\n        \"dtype\": \"string\",\n        \"num_unique_values\": 8807,\n        \"samples\": [\n          \"Game Over, Man!\",\n          \"Arsenio Hall: Smart & Classy\"\n        ],\n        \"semantic_type\": \"\",\n        \"description\": \"\"\n      }\n    },\n    {\n      \"column\": \"director\",\n      \"properties\": {\n        \"dtype\": \"string\",\n        \"num_unique_values\": 4528,\n        \"samples\": [\n          \"Kanwal Sethi\",\n          \"R\\u00e9my Four, Julien War\"\n        ],\n        \"semantic_type\": \"\",\n        \"description\": \"\"\n      }\n    },\n    {\n      \"column\": \"cast\",\n      \"properties\": {\n        \"dtype\": \"string\",\n        \"num_unique_values\": 7692,\n        \"samples\": [\n          \"Tzi Ma, Christine Ko, Hong-Chi Lee, Hayden Szeto, Kunjue Li, Fiona Fu, James Saito, Joan Chen\",\n          \"Priyanshu Painyuli, Chandrachoor Rai, Shadab Kamal, Rajeev Siddhartha, Sheetal Thakur, Ninad Kamat, Swati Semwal, Eijaz Khan\"\n        ],\n        \"semantic_type\": \"\",\n        \"description\": \"\"\n      }\n    },\n    {\n      \"column\": \"country\",\n      \"properties\": {\n        \"dtype\": \"category\",\n        \"num_unique_values\": 748,\n        \"samples\": [\n          \"United States, United Kingdom, Denmark, Sweden\",\n          \"United Kingdom, Hong Kong\"\n        ],\n        \"semantic_type\": \"\",\n        \"description\": \"\"\n      }\n    },\n    {\n      \"column\": \"date_added\",\n      \"properties\": {\n        \"dtype\": \"category\",\n        \"num_unique_values\": 1767,\n        \"samples\": [\n          \"October 22, 2018\",\n          \"January 29, 2021\"\n        ],\n        \"semantic_type\": \"\",\n        \"description\": \"\"\n      }\n    },\n    {\n      \"column\": \"release_year\",\n      \"properties\": {\n        \"dtype\": \"number\",\n        \"std\": 8,\n        \"min\": 1925,\n        \"max\": 2021,\n        \"num_unique_values\": 74,\n        \"samples\": [\n          1996,\n          1969\n        ],\n        \"semantic_type\": \"\",\n        \"description\": \"\"\n      }\n    },\n    {\n      \"column\": \"rating\",\n      \"properties\": {\n        \"dtype\": \"category\",\n        \"num_unique_values\": 17,\n        \"samples\": [\n          \"PG-13\",\n          \"TV-MA\"\n        ],\n        \"semantic_type\": \"\",\n        \"description\": \"\"\n      }\n    },\n    {\n      \"column\": \"duration\",\n      \"properties\": {\n        \"dtype\": \"category\",\n        \"num_unique_values\": 220,\n        \"samples\": [\n          \"37 min\",\n          \"177 min\"\n        ],\n        \"semantic_type\": \"\",\n        \"description\": \"\"\n      }\n    },\n    {\n      \"column\": \"listed_in\",\n      \"properties\": {\n        \"dtype\": \"category\",\n        \"num_unique_values\": 514,\n        \"samples\": [\n          \"Crime TV Shows, International TV Shows, TV Mysteries\",\n          \"Children & Family Movies, Classic Movies, Dramas\"\n        ],\n        \"semantic_type\": \"\",\n        \"description\": \"\"\n      }\n    },\n    {\n      \"column\": \"description\",\n      \"properties\": {\n        \"dtype\": \"string\",\n        \"num_unique_values\": 8775,\n        \"samples\": [\n          \"A heedless teen drifter who falls for a small-town waitress makes the mistake of robbing a drug lord, putting his life and newfound love in jeopardy.\",\n          \"Twelve-year-old Calvin manages to join the navy and serves in the battle of Guadalcanal. But when his age is revealed, the boy is sent to the brig.\"\n        ],\n        \"semantic_type\": \"\",\n        \"description\": \"\"\n      }\n    }\n  ]\n}"
            }
          },
          "metadata": {},
          "execution_count": 87
        }
      ],
      "source": [
        "import pandas as pd\n",
        "import numpy as np\n",
        "import matplotlib.pyplot as plt\n",
        "import seaborn as sns\n",
        "\n",
        "df = pd.read_csv('netflix_titles.csv')\n",
        "df.head()"
      ]
    },
    {
      "cell_type": "markdown",
      "source": [
        "#Data Cleaning"
      ],
      "metadata": {
        "id": "SW_sTNjr2qFz"
      }
    },
    {
      "cell_type": "code",
      "source": [
        "# missing values\n",
        "\n",
        "missing_values = df.isna().sum()\n",
        "missing_values"
      ],
      "metadata": {
        "colab": {
          "base_uri": "https://localhost:8080/",
          "height": 460
        },
        "id": "lfPxKotF23RX",
        "outputId": "afb2b790-d639-4f58-cd80-6b779f2318b6"
      },
      "execution_count": 119,
      "outputs": [
        {
          "output_type": "execute_result",
          "data": {
            "text/plain": [
              "show_id            0\n",
              "type               0\n",
              "title              0\n",
              "director        2634\n",
              "cast             825\n",
              "country          831\n",
              "date_added        10\n",
              "release_year       0\n",
              "rating             4\n",
              "duration           3\n",
              "listed_in          0\n",
              "description        0\n",
              "dtype: int64"
            ],
            "text/html": [
              "<div>\n",
              "<style scoped>\n",
              "    .dataframe tbody tr th:only-of-type {\n",
              "        vertical-align: middle;\n",
              "    }\n",
              "\n",
              "    .dataframe tbody tr th {\n",
              "        vertical-align: top;\n",
              "    }\n",
              "\n",
              "    .dataframe thead th {\n",
              "        text-align: right;\n",
              "    }\n",
              "</style>\n",
              "<table border=\"1\" class=\"dataframe\">\n",
              "  <thead>\n",
              "    <tr style=\"text-align: right;\">\n",
              "      <th></th>\n",
              "      <th>0</th>\n",
              "    </tr>\n",
              "  </thead>\n",
              "  <tbody>\n",
              "    <tr>\n",
              "      <th>show_id</th>\n",
              "      <td>0</td>\n",
              "    </tr>\n",
              "    <tr>\n",
              "      <th>type</th>\n",
              "      <td>0</td>\n",
              "    </tr>\n",
              "    <tr>\n",
              "      <th>title</th>\n",
              "      <td>0</td>\n",
              "    </tr>\n",
              "    <tr>\n",
              "      <th>director</th>\n",
              "      <td>2634</td>\n",
              "    </tr>\n",
              "    <tr>\n",
              "      <th>cast</th>\n",
              "      <td>825</td>\n",
              "    </tr>\n",
              "    <tr>\n",
              "      <th>country</th>\n",
              "      <td>831</td>\n",
              "    </tr>\n",
              "    <tr>\n",
              "      <th>date_added</th>\n",
              "      <td>10</td>\n",
              "    </tr>\n",
              "    <tr>\n",
              "      <th>release_year</th>\n",
              "      <td>0</td>\n",
              "    </tr>\n",
              "    <tr>\n",
              "      <th>rating</th>\n",
              "      <td>4</td>\n",
              "    </tr>\n",
              "    <tr>\n",
              "      <th>duration</th>\n",
              "      <td>3</td>\n",
              "    </tr>\n",
              "    <tr>\n",
              "      <th>listed_in</th>\n",
              "      <td>0</td>\n",
              "    </tr>\n",
              "    <tr>\n",
              "      <th>description</th>\n",
              "      <td>0</td>\n",
              "    </tr>\n",
              "  </tbody>\n",
              "</table>\n",
              "</div><br><label><b>dtype:</b> int64</label>"
            ]
          },
          "metadata": {},
          "execution_count": 119
        }
      ]
    },
    {
      "cell_type": "code",
      "source": [
        "df.info()"
      ],
      "metadata": {
        "colab": {
          "base_uri": "https://localhost:8080/"
        },
        "id": "eKNpOUQ53tjw",
        "outputId": "b8817610-fde7-4f6e-a4e6-46b39563e331"
      },
      "execution_count": 89,
      "outputs": [
        {
          "output_type": "stream",
          "name": "stdout",
          "text": [
            "<class 'pandas.core.frame.DataFrame'>\n",
            "RangeIndex: 8807 entries, 0 to 8806\n",
            "Data columns (total 12 columns):\n",
            " #   Column        Non-Null Count  Dtype \n",
            "---  ------        --------------  ----- \n",
            " 0   show_id       8807 non-null   object\n",
            " 1   type          8807 non-null   object\n",
            " 2   title         8807 non-null   object\n",
            " 3   director      6173 non-null   object\n",
            " 4   cast          7982 non-null   object\n",
            " 5   country       7976 non-null   object\n",
            " 6   date_added    8797 non-null   object\n",
            " 7   release_year  8807 non-null   int64 \n",
            " 8   rating        8803 non-null   object\n",
            " 9   duration      8804 non-null   object\n",
            " 10  listed_in     8807 non-null   object\n",
            " 11  description   8807 non-null   object\n",
            "dtypes: int64(1), object(11)\n",
            "memory usage: 825.8+ KB\n"
          ]
        }
      ]
    },
    {
      "cell_type": "code",
      "source": [
        "df['date_added'] = pd.to_datetime(df['date_added'].str.strip(), format='%B %d, %Y')\n",
        "df['release_year'] = df['release_year'].astype(int)\n",
        "df.info()"
      ],
      "metadata": {
        "colab": {
          "base_uri": "https://localhost:8080/"
        },
        "id": "TPRQGC765jFE",
        "outputId": "96f641d4-10fc-4554-e724-70b6447e3d0f"
      },
      "execution_count": 90,
      "outputs": [
        {
          "output_type": "stream",
          "name": "stdout",
          "text": [
            "<class 'pandas.core.frame.DataFrame'>\n",
            "RangeIndex: 8807 entries, 0 to 8806\n",
            "Data columns (total 12 columns):\n",
            " #   Column        Non-Null Count  Dtype         \n",
            "---  ------        --------------  -----         \n",
            " 0   show_id       8807 non-null   object        \n",
            " 1   type          8807 non-null   object        \n",
            " 2   title         8807 non-null   object        \n",
            " 3   director      6173 non-null   object        \n",
            " 4   cast          7982 non-null   object        \n",
            " 5   country       7976 non-null   object        \n",
            " 6   date_added    8797 non-null   datetime64[ns]\n",
            " 7   release_year  8807 non-null   int64         \n",
            " 8   rating        8803 non-null   object        \n",
            " 9   duration      8804 non-null   object        \n",
            " 10  listed_in     8807 non-null   object        \n",
            " 11  description   8807 non-null   object        \n",
            "dtypes: datetime64[ns](1), int64(1), object(10)\n",
            "memory usage: 825.8+ KB\n"
          ]
        }
      ]
    },
    {
      "cell_type": "code",
      "source": [
        "# duplicates\n",
        "duplicates = df.duplicated().sum()\n",
        "duplicates"
      ],
      "metadata": {
        "colab": {
          "base_uri": "https://localhost:8080/"
        },
        "id": "wDhsBsVZ7cgz",
        "outputId": "118cd54f-6711-4628-e843-c9a51eb23291"
      },
      "execution_count": 91,
      "outputs": [
        {
          "output_type": "execute_result",
          "data": {
            "text/plain": [
              "0"
            ]
          },
          "metadata": {},
          "execution_count": 91
        }
      ]
    },
    {
      "cell_type": "code",
      "source": [
        "genres = df['listed_in'].str.split(', ')\n",
        "unique_genres = genres.explode().unique()\n",
        "unique_genres"
      ],
      "metadata": {
        "colab": {
          "base_uri": "https://localhost:8080/"
        },
        "id": "r_0zPY9V7gii",
        "outputId": "5f5fcf85-d1c7-4cea-eb05-f2a03f0acdbc"
      },
      "execution_count": 92,
      "outputs": [
        {
          "output_type": "execute_result",
          "data": {
            "text/plain": [
              "array(['Documentaries', 'International TV Shows', 'TV Dramas',\n",
              "       'TV Mysteries', 'Crime TV Shows', 'TV Action & Adventure',\n",
              "       'Docuseries', 'Reality TV', 'Romantic TV Shows', 'TV Comedies',\n",
              "       'TV Horror', 'Children & Family Movies', 'Dramas',\n",
              "       'Independent Movies', 'International Movies', 'British TV Shows',\n",
              "       'Comedies', 'Spanish-Language TV Shows', 'Thrillers',\n",
              "       'Romantic Movies', 'Music & Musicals', 'Horror Movies',\n",
              "       'Sci-Fi & Fantasy', 'TV Thrillers', \"Kids' TV\",\n",
              "       'Action & Adventure', 'TV Sci-Fi & Fantasy', 'Classic Movies',\n",
              "       'Anime Features', 'Sports Movies', 'Anime Series',\n",
              "       'Korean TV Shows', 'Science & Nature TV', 'Teen TV Shows',\n",
              "       'Cult Movies', 'TV Shows', 'Faith & Spirituality', 'LGBTQ Movies',\n",
              "       'Stand-Up Comedy', 'Movies', 'Stand-Up Comedy & Talk Shows',\n",
              "       'Classic & Cult TV'], dtype=object)"
            ]
          },
          "metadata": {},
          "execution_count": 92
        }
      ]
    },
    {
      "cell_type": "code",
      "source": [
        "movies_count = df[df['type'] == 'Movie'].shape[0]\n",
        "tv_shows_count = df[df['type'] == 'TV Show'].shape[0]\n",
        "print(f\"Number of movies: {movies_count}\")\n",
        "print(f\"Number of TV shows: {tv_shows_count}\")"
      ],
      "metadata": {
        "colab": {
          "base_uri": "https://localhost:8080/"
        },
        "id": "zPb_tmJt8U-q",
        "outputId": "7f4dc089-5b13-414b-8b12-a3272e71bded"
      },
      "execution_count": 93,
      "outputs": [
        {
          "output_type": "stream",
          "name": "stdout",
          "text": [
            "Number of movies: 6131\n",
            "Number of TV shows: 2676\n"
          ]
        }
      ]
    },
    {
      "cell_type": "code",
      "source": [
        "# genre wise count of movies and tv shows\n",
        "genres_count = genres.explode().value_counts()  # Count occurrences and get top 5\n",
        "genres_count"
      ],
      "metadata": {
        "colab": {
          "base_uri": "https://localhost:8080/",
          "height": 1000
        },
        "id": "nrdKbuqc8_I5",
        "outputId": "d79b11a0-da75-4ad7-ecc6-f40bb858a9da"
      },
      "execution_count": 94,
      "outputs": [
        {
          "output_type": "execute_result",
          "data": {
            "text/plain": [
              "listed_in\n",
              "International Movies            2752\n",
              "Dramas                          2427\n",
              "Comedies                        1674\n",
              "International TV Shows          1351\n",
              "Documentaries                    869\n",
              "Action & Adventure               859\n",
              "TV Dramas                        763\n",
              "Independent Movies               756\n",
              "Children & Family Movies         641\n",
              "Romantic Movies                  616\n",
              "TV Comedies                      581\n",
              "Thrillers                        577\n",
              "Crime TV Shows                   470\n",
              "Kids' TV                         451\n",
              "Docuseries                       395\n",
              "Music & Musicals                 375\n",
              "Romantic TV Shows                370\n",
              "Horror Movies                    357\n",
              "Stand-Up Comedy                  343\n",
              "Reality TV                       255\n",
              "British TV Shows                 253\n",
              "Sci-Fi & Fantasy                 243\n",
              "Sports Movies                    219\n",
              "Anime Series                     176\n",
              "Spanish-Language TV Shows        174\n",
              "TV Action & Adventure            168\n",
              "Korean TV Shows                  151\n",
              "Classic Movies                   116\n",
              "LGBTQ Movies                     102\n",
              "TV Mysteries                      98\n",
              "Science & Nature TV               92\n",
              "TV Sci-Fi & Fantasy               84\n",
              "TV Horror                         75\n",
              "Anime Features                    71\n",
              "Cult Movies                       71\n",
              "Teen TV Shows                     69\n",
              "Faith & Spirituality              65\n",
              "TV Thrillers                      57\n",
              "Movies                            57\n",
              "Stand-Up Comedy & Talk Shows      56\n",
              "Classic & Cult TV                 28\n",
              "TV Shows                          16\n",
              "Name: count, dtype: int64"
            ],
            "text/html": [
              "<div>\n",
              "<style scoped>\n",
              "    .dataframe tbody tr th:only-of-type {\n",
              "        vertical-align: middle;\n",
              "    }\n",
              "\n",
              "    .dataframe tbody tr th {\n",
              "        vertical-align: top;\n",
              "    }\n",
              "\n",
              "    .dataframe thead th {\n",
              "        text-align: right;\n",
              "    }\n",
              "</style>\n",
              "<table border=\"1\" class=\"dataframe\">\n",
              "  <thead>\n",
              "    <tr style=\"text-align: right;\">\n",
              "      <th></th>\n",
              "      <th>count</th>\n",
              "    </tr>\n",
              "    <tr>\n",
              "      <th>listed_in</th>\n",
              "      <th></th>\n",
              "    </tr>\n",
              "  </thead>\n",
              "  <tbody>\n",
              "    <tr>\n",
              "      <th>International Movies</th>\n",
              "      <td>2752</td>\n",
              "    </tr>\n",
              "    <tr>\n",
              "      <th>Dramas</th>\n",
              "      <td>2427</td>\n",
              "    </tr>\n",
              "    <tr>\n",
              "      <th>Comedies</th>\n",
              "      <td>1674</td>\n",
              "    </tr>\n",
              "    <tr>\n",
              "      <th>International TV Shows</th>\n",
              "      <td>1351</td>\n",
              "    </tr>\n",
              "    <tr>\n",
              "      <th>Documentaries</th>\n",
              "      <td>869</td>\n",
              "    </tr>\n",
              "    <tr>\n",
              "      <th>Action &amp; Adventure</th>\n",
              "      <td>859</td>\n",
              "    </tr>\n",
              "    <tr>\n",
              "      <th>TV Dramas</th>\n",
              "      <td>763</td>\n",
              "    </tr>\n",
              "    <tr>\n",
              "      <th>Independent Movies</th>\n",
              "      <td>756</td>\n",
              "    </tr>\n",
              "    <tr>\n",
              "      <th>Children &amp; Family Movies</th>\n",
              "      <td>641</td>\n",
              "    </tr>\n",
              "    <tr>\n",
              "      <th>Romantic Movies</th>\n",
              "      <td>616</td>\n",
              "    </tr>\n",
              "    <tr>\n",
              "      <th>TV Comedies</th>\n",
              "      <td>581</td>\n",
              "    </tr>\n",
              "    <tr>\n",
              "      <th>Thrillers</th>\n",
              "      <td>577</td>\n",
              "    </tr>\n",
              "    <tr>\n",
              "      <th>Crime TV Shows</th>\n",
              "      <td>470</td>\n",
              "    </tr>\n",
              "    <tr>\n",
              "      <th>Kids' TV</th>\n",
              "      <td>451</td>\n",
              "    </tr>\n",
              "    <tr>\n",
              "      <th>Docuseries</th>\n",
              "      <td>395</td>\n",
              "    </tr>\n",
              "    <tr>\n",
              "      <th>Music &amp; Musicals</th>\n",
              "      <td>375</td>\n",
              "    </tr>\n",
              "    <tr>\n",
              "      <th>Romantic TV Shows</th>\n",
              "      <td>370</td>\n",
              "    </tr>\n",
              "    <tr>\n",
              "      <th>Horror Movies</th>\n",
              "      <td>357</td>\n",
              "    </tr>\n",
              "    <tr>\n",
              "      <th>Stand-Up Comedy</th>\n",
              "      <td>343</td>\n",
              "    </tr>\n",
              "    <tr>\n",
              "      <th>Reality TV</th>\n",
              "      <td>255</td>\n",
              "    </tr>\n",
              "    <tr>\n",
              "      <th>British TV Shows</th>\n",
              "      <td>253</td>\n",
              "    </tr>\n",
              "    <tr>\n",
              "      <th>Sci-Fi &amp; Fantasy</th>\n",
              "      <td>243</td>\n",
              "    </tr>\n",
              "    <tr>\n",
              "      <th>Sports Movies</th>\n",
              "      <td>219</td>\n",
              "    </tr>\n",
              "    <tr>\n",
              "      <th>Anime Series</th>\n",
              "      <td>176</td>\n",
              "    </tr>\n",
              "    <tr>\n",
              "      <th>Spanish-Language TV Shows</th>\n",
              "      <td>174</td>\n",
              "    </tr>\n",
              "    <tr>\n",
              "      <th>TV Action &amp; Adventure</th>\n",
              "      <td>168</td>\n",
              "    </tr>\n",
              "    <tr>\n",
              "      <th>Korean TV Shows</th>\n",
              "      <td>151</td>\n",
              "    </tr>\n",
              "    <tr>\n",
              "      <th>Classic Movies</th>\n",
              "      <td>116</td>\n",
              "    </tr>\n",
              "    <tr>\n",
              "      <th>LGBTQ Movies</th>\n",
              "      <td>102</td>\n",
              "    </tr>\n",
              "    <tr>\n",
              "      <th>TV Mysteries</th>\n",
              "      <td>98</td>\n",
              "    </tr>\n",
              "    <tr>\n",
              "      <th>Science &amp; Nature TV</th>\n",
              "      <td>92</td>\n",
              "    </tr>\n",
              "    <tr>\n",
              "      <th>TV Sci-Fi &amp; Fantasy</th>\n",
              "      <td>84</td>\n",
              "    </tr>\n",
              "    <tr>\n",
              "      <th>TV Horror</th>\n",
              "      <td>75</td>\n",
              "    </tr>\n",
              "    <tr>\n",
              "      <th>Anime Features</th>\n",
              "      <td>71</td>\n",
              "    </tr>\n",
              "    <tr>\n",
              "      <th>Cult Movies</th>\n",
              "      <td>71</td>\n",
              "    </tr>\n",
              "    <tr>\n",
              "      <th>Teen TV Shows</th>\n",
              "      <td>69</td>\n",
              "    </tr>\n",
              "    <tr>\n",
              "      <th>Faith &amp; Spirituality</th>\n",
              "      <td>65</td>\n",
              "    </tr>\n",
              "    <tr>\n",
              "      <th>TV Thrillers</th>\n",
              "      <td>57</td>\n",
              "    </tr>\n",
              "    <tr>\n",
              "      <th>Movies</th>\n",
              "      <td>57</td>\n",
              "    </tr>\n",
              "    <tr>\n",
              "      <th>Stand-Up Comedy &amp; Talk Shows</th>\n",
              "      <td>56</td>\n",
              "    </tr>\n",
              "    <tr>\n",
              "      <th>Classic &amp; Cult TV</th>\n",
              "      <td>28</td>\n",
              "    </tr>\n",
              "    <tr>\n",
              "      <th>TV Shows</th>\n",
              "      <td>16</td>\n",
              "    </tr>\n",
              "  </tbody>\n",
              "</table>\n",
              "</div><br><label><b>dtype:</b> int64</label>"
            ]
          },
          "metadata": {},
          "execution_count": 94
        }
      ]
    },
    {
      "cell_type": "code",
      "source": [
        "# year with the highest number of content releases based on the data\n",
        "year_counts = df['release_year'].value_counts()\n",
        "year_counts"
      ],
      "metadata": {
        "colab": {
          "base_uri": "https://localhost:8080/",
          "height": 490
        },
        "id": "VwdSUr1b9SCW",
        "outputId": "36443495-cc57-4793-fa79-aa3364a7071c"
      },
      "execution_count": 95,
      "outputs": [
        {
          "output_type": "execute_result",
          "data": {
            "text/plain": [
              "release_year\n",
              "2018    1147\n",
              "2017    1032\n",
              "2019    1030\n",
              "2020     953\n",
              "2016     902\n",
              "        ... \n",
              "1959       1\n",
              "1925       1\n",
              "1961       1\n",
              "1947       1\n",
              "1966       1\n",
              "Name: count, Length: 74, dtype: int64"
            ],
            "text/html": [
              "<div>\n",
              "<style scoped>\n",
              "    .dataframe tbody tr th:only-of-type {\n",
              "        vertical-align: middle;\n",
              "    }\n",
              "\n",
              "    .dataframe tbody tr th {\n",
              "        vertical-align: top;\n",
              "    }\n",
              "\n",
              "    .dataframe thead th {\n",
              "        text-align: right;\n",
              "    }\n",
              "</style>\n",
              "<table border=\"1\" class=\"dataframe\">\n",
              "  <thead>\n",
              "    <tr style=\"text-align: right;\">\n",
              "      <th></th>\n",
              "      <th>count</th>\n",
              "    </tr>\n",
              "    <tr>\n",
              "      <th>release_year</th>\n",
              "      <th></th>\n",
              "    </tr>\n",
              "  </thead>\n",
              "  <tbody>\n",
              "    <tr>\n",
              "      <th>2018</th>\n",
              "      <td>1147</td>\n",
              "    </tr>\n",
              "    <tr>\n",
              "      <th>2017</th>\n",
              "      <td>1032</td>\n",
              "    </tr>\n",
              "    <tr>\n",
              "      <th>2019</th>\n",
              "      <td>1030</td>\n",
              "    </tr>\n",
              "    <tr>\n",
              "      <th>2020</th>\n",
              "      <td>953</td>\n",
              "    </tr>\n",
              "    <tr>\n",
              "      <th>2016</th>\n",
              "      <td>902</td>\n",
              "    </tr>\n",
              "    <tr>\n",
              "      <th>...</th>\n",
              "      <td>...</td>\n",
              "    </tr>\n",
              "    <tr>\n",
              "      <th>1959</th>\n",
              "      <td>1</td>\n",
              "    </tr>\n",
              "    <tr>\n",
              "      <th>1925</th>\n",
              "      <td>1</td>\n",
              "    </tr>\n",
              "    <tr>\n",
              "      <th>1961</th>\n",
              "      <td>1</td>\n",
              "    </tr>\n",
              "    <tr>\n",
              "      <th>1947</th>\n",
              "      <td>1</td>\n",
              "    </tr>\n",
              "    <tr>\n",
              "      <th>1966</th>\n",
              "      <td>1</td>\n",
              "    </tr>\n",
              "  </tbody>\n",
              "</table>\n",
              "<p>74 rows × 1 columns</p>\n",
              "</div><br><label><b>dtype:</b> int64</label>"
            ]
          },
          "metadata": {},
          "execution_count": 95
        }
      ]
    },
    {
      "cell_type": "code",
      "source": [
        "# content by list of directors\n",
        "director_counts = df['director'].value_counts()\n",
        "director_counts"
      ],
      "metadata": {
        "colab": {
          "base_uri": "https://localhost:8080/",
          "height": 490
        },
        "id": "eV5qOumb9quo",
        "outputId": "4c3cb1a0-138f-468f-fe61-e536d7ca7048"
      },
      "execution_count": 96,
      "outputs": [
        {
          "output_type": "execute_result",
          "data": {
            "text/plain": [
              "director\n",
              "Rajiv Chilaka                     19\n",
              "Raúl Campos, Jan Suter            18\n",
              "Marcus Raboy                      16\n",
              "Suhas Kadav                       16\n",
              "Jay Karas                         14\n",
              "                                  ..\n",
              "Raymie Muzquiz, Stu Livingston     1\n",
              "Joe Menendez                       1\n",
              "Eric Bross                         1\n",
              "Will Eisenberg                     1\n",
              "Mozez Singh                        1\n",
              "Name: count, Length: 4528, dtype: int64"
            ],
            "text/html": [
              "<div>\n",
              "<style scoped>\n",
              "    .dataframe tbody tr th:only-of-type {\n",
              "        vertical-align: middle;\n",
              "    }\n",
              "\n",
              "    .dataframe tbody tr th {\n",
              "        vertical-align: top;\n",
              "    }\n",
              "\n",
              "    .dataframe thead th {\n",
              "        text-align: right;\n",
              "    }\n",
              "</style>\n",
              "<table border=\"1\" class=\"dataframe\">\n",
              "  <thead>\n",
              "    <tr style=\"text-align: right;\">\n",
              "      <th></th>\n",
              "      <th>count</th>\n",
              "    </tr>\n",
              "    <tr>\n",
              "      <th>director</th>\n",
              "      <th></th>\n",
              "    </tr>\n",
              "  </thead>\n",
              "  <tbody>\n",
              "    <tr>\n",
              "      <th>Rajiv Chilaka</th>\n",
              "      <td>19</td>\n",
              "    </tr>\n",
              "    <tr>\n",
              "      <th>Raúl Campos, Jan Suter</th>\n",
              "      <td>18</td>\n",
              "    </tr>\n",
              "    <tr>\n",
              "      <th>Marcus Raboy</th>\n",
              "      <td>16</td>\n",
              "    </tr>\n",
              "    <tr>\n",
              "      <th>Suhas Kadav</th>\n",
              "      <td>16</td>\n",
              "    </tr>\n",
              "    <tr>\n",
              "      <th>Jay Karas</th>\n",
              "      <td>14</td>\n",
              "    </tr>\n",
              "    <tr>\n",
              "      <th>...</th>\n",
              "      <td>...</td>\n",
              "    </tr>\n",
              "    <tr>\n",
              "      <th>Raymie Muzquiz, Stu Livingston</th>\n",
              "      <td>1</td>\n",
              "    </tr>\n",
              "    <tr>\n",
              "      <th>Joe Menendez</th>\n",
              "      <td>1</td>\n",
              "    </tr>\n",
              "    <tr>\n",
              "      <th>Eric Bross</th>\n",
              "      <td>1</td>\n",
              "    </tr>\n",
              "    <tr>\n",
              "      <th>Will Eisenberg</th>\n",
              "      <td>1</td>\n",
              "    </tr>\n",
              "    <tr>\n",
              "      <th>Mozez Singh</th>\n",
              "      <td>1</td>\n",
              "    </tr>\n",
              "  </tbody>\n",
              "</table>\n",
              "<p>4528 rows × 1 columns</p>\n",
              "</div><br><label><b>dtype:</b> int64</label>"
            ]
          },
          "metadata": {},
          "execution_count": 96
        }
      ]
    },
    {
      "cell_type": "code",
      "source": [
        "# countries with the most content\n",
        "country_counts = df['country'].value_counts()\n",
        "country_counts"
      ],
      "metadata": {
        "colab": {
          "base_uri": "https://localhost:8080/",
          "height": 490
        },
        "id": "p1YfTA2n9_oC",
        "outputId": "20a73ce9-0524-4f3d-fb0f-6630ef92e6d6"
      },
      "execution_count": 97,
      "outputs": [
        {
          "output_type": "execute_result",
          "data": {
            "text/plain": [
              "country\n",
              "United States                             2818\n",
              "India                                      972\n",
              "United Kingdom                             419\n",
              "Japan                                      245\n",
              "South Korea                                199\n",
              "                                          ... \n",
              "Romania, Bulgaria, Hungary                   1\n",
              "Uruguay, Guatemala                           1\n",
              "France, Senegal, Belgium                     1\n",
              "Mexico, United States, Spain, Colombia       1\n",
              "United Arab Emirates, Jordan                 1\n",
              "Name: count, Length: 748, dtype: int64"
            ],
            "text/html": [
              "<div>\n",
              "<style scoped>\n",
              "    .dataframe tbody tr th:only-of-type {\n",
              "        vertical-align: middle;\n",
              "    }\n",
              "\n",
              "    .dataframe tbody tr th {\n",
              "        vertical-align: top;\n",
              "    }\n",
              "\n",
              "    .dataframe thead th {\n",
              "        text-align: right;\n",
              "    }\n",
              "</style>\n",
              "<table border=\"1\" class=\"dataframe\">\n",
              "  <thead>\n",
              "    <tr style=\"text-align: right;\">\n",
              "      <th></th>\n",
              "      <th>count</th>\n",
              "    </tr>\n",
              "    <tr>\n",
              "      <th>country</th>\n",
              "      <th></th>\n",
              "    </tr>\n",
              "  </thead>\n",
              "  <tbody>\n",
              "    <tr>\n",
              "      <th>United States</th>\n",
              "      <td>2818</td>\n",
              "    </tr>\n",
              "    <tr>\n",
              "      <th>India</th>\n",
              "      <td>972</td>\n",
              "    </tr>\n",
              "    <tr>\n",
              "      <th>United Kingdom</th>\n",
              "      <td>419</td>\n",
              "    </tr>\n",
              "    <tr>\n",
              "      <th>Japan</th>\n",
              "      <td>245</td>\n",
              "    </tr>\n",
              "    <tr>\n",
              "      <th>South Korea</th>\n",
              "      <td>199</td>\n",
              "    </tr>\n",
              "    <tr>\n",
              "      <th>...</th>\n",
              "      <td>...</td>\n",
              "    </tr>\n",
              "    <tr>\n",
              "      <th>Romania, Bulgaria, Hungary</th>\n",
              "      <td>1</td>\n",
              "    </tr>\n",
              "    <tr>\n",
              "      <th>Uruguay, Guatemala</th>\n",
              "      <td>1</td>\n",
              "    </tr>\n",
              "    <tr>\n",
              "      <th>France, Senegal, Belgium</th>\n",
              "      <td>1</td>\n",
              "    </tr>\n",
              "    <tr>\n",
              "      <th>Mexico, United States, Spain, Colombia</th>\n",
              "      <td>1</td>\n",
              "    </tr>\n",
              "    <tr>\n",
              "      <th>United Arab Emirates, Jordan</th>\n",
              "      <td>1</td>\n",
              "    </tr>\n",
              "  </tbody>\n",
              "</table>\n",
              "<p>748 rows × 1 columns</p>\n",
              "</div><br><label><b>dtype:</b> int64</label>"
            ]
          },
          "metadata": {},
          "execution_count": 97
        }
      ]
    },
    {
      "cell_type": "code",
      "source": [
        "# average duration of movies and tv shows in the dataset\n",
        "movie_durations = df[df['type'] == 'Movie']['duration'].dropna().str.extract('(\\d+)').astype(int)\n",
        "movie_average_duration = movie_durations.mean()\n",
        "\n",
        "tv_show_duration = df[df['type'] == 'TV Show']['duration'].dropna().str.extract('(\\d+)').astype(int)\n",
        "tv_average_duration = tv_show_duration.mean()\n",
        "\n",
        "print(f'average_duration of movies: {movie_average_duration.values[0].round(2)} minutes')\n",
        "print(f'average_duration of tv shoes: {tv_average_duration.values[0].round(2)} seasons')"
      ],
      "metadata": {
        "colab": {
          "base_uri": "https://localhost:8080/"
        },
        "id": "QPRjiWF1-Rpb",
        "outputId": "7b7b432d-b022-4908-dadf-6f05e8d0970a"
      },
      "execution_count": 98,
      "outputs": [
        {
          "output_type": "stream",
          "name": "stdout",
          "text": [
            "average_duration of movies: 99.58 minutes\n",
            "average_duration of tv shoes: 1.76 seasons\n"
          ]
        }
      ]
    },
    {
      "cell_type": "code",
      "source": [
        "# movies vs tv shows in bar chart\n",
        "type_counts = df['type'].value_counts()\n",
        "type_counts.plot(kind='bar')\n",
        "plt.xlabel('Type')\n",
        "plt.ylabel('Count')\n",
        "plt.title('Movies vs TV Shows in Dataset')\n",
        "plt.show()"
      ],
      "metadata": {
        "colab": {
          "base_uri": "https://localhost:8080/",
          "height": 517
        },
        "id": "YGSm1kF7BHSZ",
        "outputId": "e888f622-39a8-4e72-a3ca-186902040c42"
      },
      "execution_count": 99,
      "outputs": [
        {
          "output_type": "display_data",
          "data": {
            "text/plain": [
              "<Figure size 640x480 with 1 Axes>"
            ],
            "image/png": "[encoded data removed]"
          },
          "metadata": {}
        }
      ]
    },
    {
      "cell_type": "code",
      "source": [
        "# pie chart of movies and tv shows by genre\n",
        "genre_counts = genres.explode().value_counts()\n",
        "counts = genre_counts.values\n",
        "\n",
        "\n",
        "# Get the top 5 genres\n",
        "top_5_genres = genre_counts.head(5)\n",
        "other_count = genre_counts.iloc[5:].sum()  # Sum of all other genres\n",
        "\n",
        "# Append \"Other\" if necessary\n",
        "if other_count > 0:\n",
        "    top_5_genres[\"Other\"] = other_count\n",
        "\n",
        "# Plot the pie chart\n",
        "plt.figure(figsize=(8, 8))\n",
        "plt.pie(top_5_genres.values, labels=top_5_genres.index, autopct='%1.1f%%')\n",
        "plt.title('Movies and TV Shows by Genre (Top 5)')\n",
        "plt.show()"
      ],
      "metadata": {
        "colab": {
          "base_uri": "https://localhost:8080/",
          "height": 675
        },
        "id": "uGaaiX4ZBTWB",
        "outputId": "82c101e4-d5de-4220-f8e0-cbcec5f6f623"
      },
      "execution_count": 100,
      "outputs": [
        {
          "output_type": "display_data",
          "data": {
            "text/plain": [
              "<Figure size 800x800 with 1 Axes>"
            ],
            "image/png": "[encoded data removed]"
          },
          "metadata": {}
        }
      ]
    },
    {
      "cell_type": "code",
      "source": [
        "# line chart for number of content releases per year\n",
        "year_counts = df['release_year'].value_counts().sort_index()\n",
        "plt.figure(figsize=(10, 6))\n",
        "plt.plot(year_counts.index, year_counts.values, marker='o')"
      ],
      "metadata": {
        "colab": {
          "base_uri": "https://localhost:8080/",
          "height": 544
        },
        "id": "fG2Xpw9qCxUZ",
        "outputId": "e540442a-8ed2-4e77-822e-f7e87701fd3b"
      },
      "execution_count": 101,
      "outputs": [
        {
          "output_type": "execute_result",
          "data": {
            "text/plain": [
              "[<matplotlib.lines.Line2D at 0x783fe4d98190>]"
            ]
          },
          "metadata": {},
          "execution_count": 101
        },
        {
          "output_type": "display_data",
          "data": {
            "text/plain": [
              "<Figure size 1000x600 with 1 Axes>"
            ],
            "image/png": "[encoded data removed]"
          },
          "metadata": {}
        }
      ]
    },
    {
      "cell_type": "code",
      "source": [
        "# histogram of movie durations\n",
        "durations = df[df['type'] == 'Movie']['duration'].dropna().str.extract('(\\d+)').astype(int)\n",
        "plt.figure(figsize=(10, 6))\n",
        "plt.hist(durations, bins=20, color='skyblue', edgecolor='black')"
      ],
      "metadata": {
        "colab": {
          "base_uri": "https://localhost:8080/",
          "height": 665
        },
        "id": "sXkQNAVFC_B_",
        "outputId": "3e6372ef-3f57-440c-b21d-e8c3d4cbafd7"
      },
      "execution_count": 102,
      "outputs": [
        {
          "output_type": "execute_result",
          "data": {
            "text/plain": [
              "(array([2.400e+01, 1.230e+02, 1.300e+02, 3.200e+02, 4.960e+02, 1.599e+03,\n",
              "        1.709e+03, 8.600e+02, 4.960e+02, 1.960e+02, 1.050e+02, 3.900e+01,\n",
              "        1.400e+01, 8.000e+00, 5.000e+00, 1.000e+00, 1.000e+00, 1.000e+00,\n",
              "        0.000e+00, 1.000e+00]),\n",
              " array([  3.  ,  18.45,  33.9 ,  49.35,  64.8 ,  80.25,  95.7 , 111.15,\n",
              "        126.6 , 142.05, 157.5 , 172.95, 188.4 , 203.85, 219.3 , 234.75,\n",
              "        250.2 , 265.65, 281.1 , 296.55, 312.  ]),\n",
              " <BarContainer object of 20 artists>)"
            ]
          },
          "metadata": {},
          "execution_count": 102
        },
        {
          "output_type": "display_data",
          "data": {
            "text/plain": [
              "<Figure size 1000x600 with 1 Axes>"
            ],
            "image/png": "[encoded data removed]"
          },
          "metadata": {}
        }
      ]
    },
    {
      "cell_type": "code",
      "source": [
        "# heat map of correlation between numerical columns for movies\n",
        "movies = df[df['type'] == 'Movie']\n",
        "numerical_columns = movies[['release_year', 'duration']].copy()  # Explicitly create a copy\n",
        "\n",
        "numerical_columns['release_year'] = numerical_columns['release_year'].astype(int)\n",
        "numerical_columns['duration'] = numerical_columns['duration'].dropna().str.extract('(\\d+)').astype(int)\n",
        "correlation_matrix = numerical_columns.corr()\n",
        "plt.figure(figsize=(8, 6))\n",
        "sns.heatmap(correlation_matrix, annot=True, cmap='coolwarm', fmt=\".2f\")"
      ],
      "metadata": {
        "colab": {
          "base_uri": "https://localhost:8080/",
          "height": 546
        },
        "id": "BGVrI4zWDK0a",
        "outputId": "b94b87c1-6321-46ca-b3ba-2bd278adc68a"
      },
      "execution_count": 115,
      "outputs": [
        {
          "output_type": "execute_result",
          "data": {
            "text/plain": [
              "<Axes: >"
            ]
          },
          "metadata": {},
          "execution_count": 115
        },
        {
          "output_type": "display_data",
          "data": {
            "text/plain": [
              "<Figure size 800x600 with 2 Axes>"
            ],
            "image/png": "[encoded data removed]"
          },
          "metadata": {}
        }
      ]
    },
    {
      "cell_type": "code",
      "source": [
        "# heat map of correlation between numerical columns for tv shoes\n",
        "movies = df[df['type'] == 'TV Show']\n",
        "numerical_columns = movies[['release_year', 'duration']].copy()  # Explicitly create a copy\n",
        "\n",
        "numerical_columns['release_year'] = numerical_columns['release_year'].astype(int)\n",
        "numerical_columns['duration'] = numerical_columns['duration'].dropna().str.extract('(\\d+)').astype(int)\n",
        "correlation_matrix = numerical_columns.corr()\n",
        "plt.figure(figsize=(8, 6))\n",
        "sns.heatmap(correlation_matrix, annot=True, cmap='coolwarm', fmt=\".2f\")"
      ],
      "metadata": {
        "colab": {
          "base_uri": "https://localhost:8080/",
          "height": 546
        },
        "id": "n2w5pZgWRU8W",
        "outputId": "f3809c87-2054-486b-aa74-33c1c9aed33c"
      },
      "execution_count": 118,
      "outputs": [
        {
          "output_type": "execute_result",
          "data": {
            "text/plain": [
              "<Axes: >"
            ]
          },
          "metadata": {},
          "execution_count": 118
        },
        {
          "output_type": "display_data",
          "data": {
            "text/plain": [
              "<Figure size 800x600 with 2 Axes>"
            ],
            "image/png": "[encoded data removed]"
          },
          "metadata": {}
        }
      ]
    }
  ]
}